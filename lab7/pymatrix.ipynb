{
 "cells": [
  {
   "cell_type": "code",
   "execution_count": 1,
   "metadata": {},
   "outputs": [],
   "source": [
    "import numpy as np\n",
    "from aadsds import dot"
   ]
  },
  {
   "cell_type": "code",
   "execution_count": 13,
   "metadata": {},
   "outputs": [],
   "source": [
    "A = np.random.normal(size=(3, 5))\n",
    "B = np.random.normal(size=(5, 7))"
   ]
  },
  {
   "cell_type": "code",
   "execution_count": 22,
   "metadata": {},
   "outputs": [],
   "source": [
    "for _ in range(100):\n",
    "    n, p, m = np.random.choice(np.arange(2, 100), size=3, replace=True)\n",
    "    A = np.random.normal(size=(n, p))\n",
    "    B = np.random.normal(size=(p, m))\n",
    "    assert np.all(np.abs((dot(A, B) - np.dot(A, B))) <= 1e-5)"
   ]
  }
 ],
 "metadata": {
  "kernelspec": {
   "display_name": "c",
   "language": "python",
   "name": "python3"
  },
  "language_info": {
   "codemirror_mode": {
    "name": "ipython",
    "version": 3
   },
   "file_extension": ".py",
   "mimetype": "text/x-python",
   "name": "python",
   "nbconvert_exporter": "python",
   "pygments_lexer": "ipython3",
   "version": "3.11.10"
  }
 },
 "nbformat": 4,
 "nbformat_minor": 2
}
